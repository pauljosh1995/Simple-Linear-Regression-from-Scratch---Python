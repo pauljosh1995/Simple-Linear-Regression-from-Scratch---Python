{
 "cells": [
  {
   "cell_type": "code",
   "execution_count": 83,
   "metadata": {},
   "outputs": [],
   "source": [
    "#Importing the libraries \n",
    "\n",
    "import numpy as np\n",
    "import pandas as pd\n",
    "import matplotlib.pyplot as plt"
   ]
  },
  {
   "cell_type": "code",
   "execution_count": 84,
   "metadata": {},
   "outputs": [
    {
     "data": {
      "text/plain": [
       "(500, 4)"
      ]
     },
     "execution_count": 84,
     "metadata": {},
     "output_type": "execute_result"
    }
   ],
   "source": [
    "#Creating the inputs \n",
    "\n",
    "#We are going to have four features \n",
    "\n",
    "nobs = 500 #number of observations\n",
    "\n",
    "#Creating random inputs\n",
    "X1 = np.random.normal(2 , 0.2 , (nobs,1) )\n",
    "X2 = np.random.normal(3 , 0.3 , (nobs,1) )\n",
    "X3 = np.random.normal(4 , 0.4 , (nobs,1) )\n",
    "X4 = np.random.normal(5 , 0.5 , (nobs,1) )\n",
    "\n",
    "input_array = np.hstack((X1,X2,X3,X4))\n",
    "\n",
    "#cHECKING THE SHAPE \n",
    "input_array.shape"
   ]
  },
  {
   "cell_type": "code",
   "execution_count": 85,
   "metadata": {},
   "outputs": [
    {
     "data": {
      "text/plain": [
       "(500, 1)"
      ]
     },
     "execution_count": 85,
     "metadata": {},
     "output_type": "execute_result"
    }
   ],
   "source": [
    "#Creating the target \n",
    "\n",
    "#Its going to have some noise \n",
    "noise = np.random.uniform(size = (nobs,1))\n",
    "target_value = 2*X1 - 3*X2 + 4*X3-5*X4+ 7 +noise\n",
    "\n",
    "#Checking the shape\n",
    "target_value.shape"
   ]
  },
  {
   "cell_type": "code",
   "execution_count": 86,
   "metadata": {},
   "outputs": [],
   "source": [
    "#Implementing the algorithm\n",
    "\n",
    "def lin_reg(iterations , lr , input_array , target_value):\n",
    "    \n",
    "    bias = np.random.uniform(-0.15,0.15,size = 1)\n",
    "    weights = np.random.uniform(-0.15,0.15,size = (input_array.shape[1], target_value.shape[1] ))\n",
    "    \n",
    "    \n",
    "    for i in range(iterations):\n",
    "        ypred = np.dot(input_array , weights)+bias #calculating y predicted\n",
    "        delta = ypred-target_value #Difference of actual and predicted values \n",
    "        loss_value = 0.5*(np.sum(delta**2))\n",
    "        loss_value = loss_value/nobs #Scaling the loss\n",
    "        \n",
    "        if i>0.999*iterations: #Printing the last few loss values \n",
    "            print('The value of loss after iteration',i,'is ' , loss_value)\n",
    "        delta_scaled = delta/nobs\n",
    "        diff_L_wrt_b = np.sum(delta_scaled) #derivative wrt to bias\n",
    "        diff_L_wrt_w = np.dot(input_array.T,delta_scaled)\n",
    "        \n",
    "        #Updating the weights and bias \n",
    "        \n",
    "        bias = bias-lr*diff_L_wrt_b\n",
    "        weights = weights-lr*diff_L_wrt_w\n",
    "        \n",
    "    print('Weights:',weights)\n",
    "    print('bias' , bias)\n",
    "    \n",
    "    tup = (weights , bias)\n",
    "    return (tup)"
   ]
  },
  {
   "cell_type": "code",
   "execution_count": 87,
   "metadata": {},
   "outputs": [
    {
     "name": "stdout",
     "output_type": "stream",
     "text": [
      "The value of loss after iteration 49951 is  0.0419742392002743\n",
      "The value of loss after iteration 49952 is  0.04197417867061074\n",
      "The value of loss after iteration 49953 is  0.041974118146436507\n",
      "The value of loss after iteration 49954 is  0.04197405762775115\n",
      "The value of loss after iteration 49955 is  0.04197399711455407\n",
      "The value of loss after iteration 49956 is  0.04197393660684487\n",
      "The value of loss after iteration 49957 is  0.04197387610462298\n",
      "The value of loss after iteration 49958 is  0.04197381560788799\n",
      "The value of loss after iteration 49959 is  0.0419737551166393\n",
      "The value of loss after iteration 49960 is  0.04197369463087648\n",
      "The value of loss after iteration 49961 is  0.04197363415059898\n",
      "The value of loss after iteration 49962 is  0.041973573675806404\n",
      "The value of loss after iteration 49963 is  0.041973513206498156\n",
      "The value of loss after iteration 49964 is  0.0419734527426737\n",
      "The value of loss after iteration 49965 is  0.04197339228433269\n",
      "The value of loss after iteration 49966 is  0.041973331831474565\n",
      "The value of loss after iteration 49967 is  0.041973271384098745\n",
      "The value of loss after iteration 49968 is  0.04197321094220483\n",
      "The value of loss after iteration 49969 is  0.04197315050579226\n",
      "The value of loss after iteration 49970 is  0.041973090074860595\n",
      "The value of loss after iteration 49971 is  0.041973029649409285\n",
      "The value of loss after iteration 49972 is  0.0419729692294379\n",
      "The value of loss after iteration 49973 is  0.04197290881494585\n",
      "The value of loss after iteration 49974 is  0.04197284840593275\n",
      "The value of loss after iteration 49975 is  0.04197278800239798\n",
      "The value of loss after iteration 49976 is  0.04197272760434109\n",
      "The value of loss after iteration 49977 is  0.04197266721176167\n",
      "The value of loss after iteration 49978 is  0.041972606824659135\n",
      "The value of loss after iteration 49979 is  0.04197254644303299\n",
      "The value of loss after iteration 49980 is  0.041972486066882746\n",
      "The value of loss after iteration 49981 is  0.04197242569620789\n",
      "The value of loss after iteration 49982 is  0.04197236533100804\n",
      "The value of loss after iteration 49983 is  0.04197230497128259\n",
      "The value of loss after iteration 49984 is  0.041972244617030995\n",
      "The value of loss after iteration 49985 is  0.04197218426825282\n",
      "The value of loss after iteration 49986 is  0.041972123924947626\n",
      "The value of loss after iteration 49987 is  0.041972063587114916\n",
      "The value of loss after iteration 49988 is  0.04197200325475403\n",
      "The value of loss after iteration 49989 is  0.0419719429278646\n",
      "The value of loss after iteration 49990 is  0.04197188260644618\n",
      "The value of loss after iteration 49991 is  0.04197182229049814\n",
      "The value of loss after iteration 49992 is  0.04197176198002014\n",
      "The value of loss after iteration 49993 is  0.04197170167501152\n",
      "The value of loss after iteration 49994 is  0.041971641375471935\n",
      "The value of loss after iteration 49995 is  0.04197158108140073\n",
      "The value of loss after iteration 49996 is  0.041971520792797534\n",
      "The value of loss after iteration 49997 is  0.04197146050966187\n",
      "The value of loss after iteration 49998 is  0.04197140023199307\n",
      "The value of loss after iteration 49999 is  0.04197133995979079\n",
      "Weights: [[ 2.08206514]\n",
      " [-2.99611812]\n",
      " [ 4.06992222]\n",
      " [-4.97086827]]\n",
      "bias [6.89525959]\n"
     ]
    }
   ],
   "source": [
    "results = lin_reg(iterations = 50000, lr = 0.02 , input_array  = input_array, target_value = target_value)"
   ]
  },
  {
   "cell_type": "code",
   "execution_count": 88,
   "metadata": {},
   "outputs": [],
   "source": [
    "#Predicting the values \n",
    "y_pred = np.dot(input_array , weights)+bias"
   ]
  },
  {
   "cell_type": "code",
   "execution_count": 73,
   "metadata": {},
   "outputs": [],
   "source": [
    "#We see that the actual and predicted values are fairly similar\n",
    "\n",
    "#we see that the weight values closely follow the coefficients in the target specified"
   ]
  },
  {
   "cell_type": "code",
   "execution_count": null,
   "metadata": {},
   "outputs": [],
   "source": []
  }
 ],
 "metadata": {
  "kernelspec": {
   "display_name": "Python 3",
   "language": "python",
   "name": "python3"
  },
  "language_info": {
   "codemirror_mode": {
    "name": "ipython",
    "version": 3
   },
   "file_extension": ".py",
   "mimetype": "text/x-python",
   "name": "python",
   "nbconvert_exporter": "python",
   "pygments_lexer": "ipython3",
   "version": "3.7.4"
  }
 },
 "nbformat": 4,
 "nbformat_minor": 2
}
